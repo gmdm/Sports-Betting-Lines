{
 "cells": [
  {
   "cell_type": "code",
   "execution_count": 156,
   "metadata": {},
   "outputs": [],
   "source": [
    "import matplotlib.pyplot as plt\n",
    "import pandas as pd\n",
    "import numpy as np\n",
    "import scipy.stats as stats\n",
    "import scipy as sp\n",
    "\n",
    "%matplotlib inline"
   ]
  },
  {
   "cell_type": "code",
   "execution_count": 37,
   "metadata": {},
   "outputs": [],
   "source": [
    "df = pd.read_csv('/Users/mm/Desktop/Capstone 1/Sports-Betting-Lines/Output Files/combined_output.csv')"
   ]
  },
  {
   "cell_type": "code",
   "execution_count": 38,
   "metadata": {},
   "outputs": [
    {
     "name": "stdout",
     "output_type": "stream",
     "text": [
      "<class 'pandas.core.frame.DataFrame'>\n",
      "RangeIndex: 1158 entries, 0 to 1157\n",
      "Data columns (total 30 columns):\n",
      " #   Column                      Non-Null Count  Dtype  \n",
      "---  ------                      --------------  -----  \n",
      " 0   Unnamed: 0                  1158 non-null   int64  \n",
      " 1   index_x                     1158 non-null   int64  \n",
      " 2   Season_x                    1158 non-null   int64  \n",
      " 3   Week_x                      1158 non-null   int64  \n",
      " 4   Include_x                   1158 non-null   bool   \n",
      " 5   Team 1_x                    1158 non-null   object \n",
      " 6   Team 2_x                    1158 non-null   object \n",
      " 7   Spread Open                 897 non-null    float64\n",
      " 8   O/U Open                    897 non-null    float64\n",
      " 9   Open Favorite               1158 non-null   object \n",
      " 10  Spread Close                1133 non-null   float64\n",
      " 11  O/U Close                   1133 non-null   float64\n",
      " 12  Close Favorite              1158 non-null   object \n",
      " 13  Spread Consensus Team 1     1156 non-null   object \n",
      " 14  Spread Consensus Team 2     1156 non-null   object \n",
      " 15  Over Consensus              1156 non-null   object \n",
      " 16  Under Consensus             1156 non-null   object \n",
      " 17  Moneyline Consensus Team 1  1156 non-null   object \n",
      " 18  Moneyline Consensus Team 2  1156 non-null   object \n",
      " 19  Game ID 1                   1158 non-null   object \n",
      " 20  Game ID 2                   1158 non-null   object \n",
      " 21  index_y                     1158 non-null   int64  \n",
      " 22  Season_y                    1158 non-null   int64  \n",
      " 23  Week_y                      1158 non-null   int64  \n",
      " 24  Include_y                   1158 non-null   bool   \n",
      " 25  Team 1_y                    1158 non-null   object \n",
      " 26  Team 2_y                    1158 non-null   object \n",
      " 27  Team 1 Final                1158 non-null   float64\n",
      " 28  Team 2 Final                1158 non-null   float64\n",
      " 29  Total Final                 1158 non-null   float64\n",
      "dtypes: bool(2), float64(7), int64(7), object(14)\n",
      "memory usage: 255.7+ KB\n"
     ]
    }
   ],
   "source": [
    "df.info()"
   ]
  },
  {
   "cell_type": "code",
   "execution_count": 43,
   "metadata": {},
   "outputs": [],
   "source": [
    "spread_df = df[['Season_x', 'Week_x', 'Team 1_x', 'Team 2_x', 'Spread Open','Spread Close', 'Open Favorite', 'Close Favorite',\n",
    "                'Spread Consensus Team 1', 'Spread Consensus Team 2', 'Team 1 Final', 'Team 2 Final', 'Total Final'\n",
    "               ]]"
   ]
  },
  {
   "cell_type": "code",
   "execution_count": 45,
   "metadata": {},
   "outputs": [
    {
     "data": {
      "text/html": [
       "<div>\n",
       "<style scoped>\n",
       "    .dataframe tbody tr th:only-of-type {\n",
       "        vertical-align: middle;\n",
       "    }\n",
       "\n",
       "    .dataframe tbody tr th {\n",
       "        vertical-align: top;\n",
       "    }\n",
       "\n",
       "    .dataframe thead th {\n",
       "        text-align: right;\n",
       "    }\n",
       "</style>\n",
       "<table border=\"1\" class=\"dataframe\">\n",
       "  <thead>\n",
       "    <tr style=\"text-align: right;\">\n",
       "      <th></th>\n",
       "      <th>Season_x</th>\n",
       "      <th>Week_x</th>\n",
       "      <th>Team 1_x</th>\n",
       "      <th>Team 2_x</th>\n",
       "      <th>Spread Open</th>\n",
       "      <th>Spread Close</th>\n",
       "      <th>Open Favorite</th>\n",
       "      <th>Close Favorite</th>\n",
       "      <th>Spread Consensus Team 1</th>\n",
       "      <th>Spread Consensus Team 2</th>\n",
       "      <th>Team 1 Final</th>\n",
       "      <th>Team 2 Final</th>\n",
       "      <th>Total Final</th>\n",
       "    </tr>\n",
       "  </thead>\n",
       "  <tbody>\n",
       "    <tr>\n",
       "      <th>0</th>\n",
       "      <td>2020</td>\n",
       "      <td>1</td>\n",
       "      <td>Houston</td>\n",
       "      <td>KansasCity</td>\n",
       "      <td>-10.0</td>\n",
       "      <td>-9.5</td>\n",
       "      <td>Team 2</td>\n",
       "      <td>Team 2</td>\n",
       "      <td>50%</td>\n",
       "      <td>50%</td>\n",
       "      <td>20.0</td>\n",
       "      <td>34.0</td>\n",
       "      <td>54.0</td>\n",
       "    </tr>\n",
       "    <tr>\n",
       "      <th>1</th>\n",
       "      <td>2020</td>\n",
       "      <td>1</td>\n",
       "      <td>LasVegas</td>\n",
       "      <td>Carolina</td>\n",
       "      <td>NaN</td>\n",
       "      <td>NaN</td>\n",
       "      <td>Team 1</td>\n",
       "      <td>Team 1</td>\n",
       "      <td>NaN</td>\n",
       "      <td>NaN</td>\n",
       "      <td>34.0</td>\n",
       "      <td>30.0</td>\n",
       "      <td>64.0</td>\n",
       "    </tr>\n",
       "    <tr>\n",
       "      <th>2</th>\n",
       "      <td>2020</td>\n",
       "      <td>1</td>\n",
       "      <td>LasVegas</td>\n",
       "      <td>Carolina</td>\n",
       "      <td>0.0</td>\n",
       "      <td>-3.0</td>\n",
       "      <td>No Favorite</td>\n",
       "      <td>Team 1</td>\n",
       "      <td>55%</td>\n",
       "      <td>45%</td>\n",
       "      <td>34.0</td>\n",
       "      <td>30.0</td>\n",
       "      <td>64.0</td>\n",
       "    </tr>\n",
       "    <tr>\n",
       "      <th>3</th>\n",
       "      <td>2020</td>\n",
       "      <td>1</td>\n",
       "      <td>Miami</td>\n",
       "      <td>NewEngland</td>\n",
       "      <td>-5.5</td>\n",
       "      <td>-7.0</td>\n",
       "      <td>Team 2</td>\n",
       "      <td>Team 2</td>\n",
       "      <td>42%</td>\n",
       "      <td>58%</td>\n",
       "      <td>11.0</td>\n",
       "      <td>21.0</td>\n",
       "      <td>32.0</td>\n",
       "    </tr>\n",
       "    <tr>\n",
       "      <th>4</th>\n",
       "      <td>2020</td>\n",
       "      <td>1</td>\n",
       "      <td>Cleveland</td>\n",
       "      <td>Baltimore</td>\n",
       "      <td>-9.0</td>\n",
       "      <td>-7.0</td>\n",
       "      <td>Team 2</td>\n",
       "      <td>Team 2</td>\n",
       "      <td>40%</td>\n",
       "      <td>60%</td>\n",
       "      <td>6.0</td>\n",
       "      <td>38.0</td>\n",
       "      <td>44.0</td>\n",
       "    </tr>\n",
       "    <tr>\n",
       "      <th>...</th>\n",
       "      <td>...</td>\n",
       "      <td>...</td>\n",
       "      <td>...</td>\n",
       "      <td>...</td>\n",
       "      <td>...</td>\n",
       "      <td>...</td>\n",
       "      <td>...</td>\n",
       "      <td>...</td>\n",
       "      <td>...</td>\n",
       "      <td>...</td>\n",
       "      <td>...</td>\n",
       "      <td>...</td>\n",
       "      <td>...</td>\n",
       "    </tr>\n",
       "    <tr>\n",
       "      <th>1153</th>\n",
       "      <td>2016</td>\n",
       "      <td>19</td>\n",
       "      <td>Pittsburgh</td>\n",
       "      <td>KansasCity</td>\n",
       "      <td>0.0</td>\n",
       "      <td>-2.0</td>\n",
       "      <td>No Favorite</td>\n",
       "      <td>Team 2</td>\n",
       "      <td>56%</td>\n",
       "      <td>44%</td>\n",
       "      <td>18.0</td>\n",
       "      <td>16.0</td>\n",
       "      <td>34.0</td>\n",
       "    </tr>\n",
       "    <tr>\n",
       "      <th>1154</th>\n",
       "      <td>2016</td>\n",
       "      <td>19</td>\n",
       "      <td>GreenBay</td>\n",
       "      <td>Dallas</td>\n",
       "      <td>-4.0</td>\n",
       "      <td>-5.0</td>\n",
       "      <td>Team 2</td>\n",
       "      <td>Team 2</td>\n",
       "      <td>56%</td>\n",
       "      <td>44%</td>\n",
       "      <td>34.0</td>\n",
       "      <td>31.0</td>\n",
       "      <td>65.0</td>\n",
       "    </tr>\n",
       "    <tr>\n",
       "      <th>1155</th>\n",
       "      <td>2016</td>\n",
       "      <td>20</td>\n",
       "      <td>GreenBay</td>\n",
       "      <td>Atlanta</td>\n",
       "      <td>-4.0</td>\n",
       "      <td>-6.0</td>\n",
       "      <td>Team 2</td>\n",
       "      <td>Team 2</td>\n",
       "      <td>65%</td>\n",
       "      <td>35%</td>\n",
       "      <td>21.0</td>\n",
       "      <td>44.0</td>\n",
       "      <td>65.0</td>\n",
       "    </tr>\n",
       "    <tr>\n",
       "      <th>1156</th>\n",
       "      <td>2016</td>\n",
       "      <td>20</td>\n",
       "      <td>Pittsburgh</td>\n",
       "      <td>NewEngland</td>\n",
       "      <td>NaN</td>\n",
       "      <td>-5.5</td>\n",
       "      <td>Team 1</td>\n",
       "      <td>Team 2</td>\n",
       "      <td>45%</td>\n",
       "      <td>55%</td>\n",
       "      <td>17.0</td>\n",
       "      <td>36.0</td>\n",
       "      <td>53.0</td>\n",
       "    </tr>\n",
       "    <tr>\n",
       "      <th>1157</th>\n",
       "      <td>2016</td>\n",
       "      <td>22</td>\n",
       "      <td>NewEngland</td>\n",
       "      <td>Atlanta</td>\n",
       "      <td>0.0</td>\n",
       "      <td>-3.0</td>\n",
       "      <td>No Favorite</td>\n",
       "      <td>Team 1</td>\n",
       "      <td>63%</td>\n",
       "      <td>37%</td>\n",
       "      <td>34.0</td>\n",
       "      <td>28.0</td>\n",
       "      <td>62.0</td>\n",
       "    </tr>\n",
       "  </tbody>\n",
       "</table>\n",
       "<p>1158 rows × 13 columns</p>\n",
       "</div>"
      ],
      "text/plain": [
       "      Season_x  Week_x    Team 1_x    Team 2_x  Spread Open  Spread Close  \\\n",
       "0         2020       1     Houston  KansasCity        -10.0          -9.5   \n",
       "1         2020       1    LasVegas    Carolina          NaN           NaN   \n",
       "2         2020       1    LasVegas    Carolina          0.0          -3.0   \n",
       "3         2020       1       Miami  NewEngland         -5.5          -7.0   \n",
       "4         2020       1   Cleveland   Baltimore         -9.0          -7.0   \n",
       "...        ...     ...         ...         ...          ...           ...   \n",
       "1153      2016      19  Pittsburgh  KansasCity          0.0          -2.0   \n",
       "1154      2016      19    GreenBay      Dallas         -4.0          -5.0   \n",
       "1155      2016      20    GreenBay     Atlanta         -4.0          -6.0   \n",
       "1156      2016      20  Pittsburgh  NewEngland          NaN          -5.5   \n",
       "1157      2016      22  NewEngland     Atlanta          0.0          -3.0   \n",
       "\n",
       "     Open Favorite Close Favorite Spread Consensus Team 1  \\\n",
       "0           Team 2         Team 2                     50%   \n",
       "1           Team 1         Team 1                     NaN   \n",
       "2      No Favorite         Team 1                     55%   \n",
       "3           Team 2         Team 2                     42%   \n",
       "4           Team 2         Team 2                     40%   \n",
       "...            ...            ...                     ...   \n",
       "1153   No Favorite         Team 2                     56%   \n",
       "1154        Team 2         Team 2                     56%   \n",
       "1155        Team 2         Team 2                     65%   \n",
       "1156        Team 1         Team 2                     45%   \n",
       "1157   No Favorite         Team 1                     63%   \n",
       "\n",
       "     Spread Consensus Team 2  Team 1 Final  Team 2 Final  Total Final  \n",
       "0                        50%          20.0          34.0         54.0  \n",
       "1                        NaN          34.0          30.0         64.0  \n",
       "2                        45%          34.0          30.0         64.0  \n",
       "3                        58%          11.0          21.0         32.0  \n",
       "4                        60%           6.0          38.0         44.0  \n",
       "...                      ...           ...           ...          ...  \n",
       "1153                     44%          18.0          16.0         34.0  \n",
       "1154                     44%          34.0          31.0         65.0  \n",
       "1155                     35%          21.0          44.0         65.0  \n",
       "1156                     55%          17.0          36.0         53.0  \n",
       "1157                     37%          34.0          28.0         62.0  \n",
       "\n",
       "[1158 rows x 13 columns]"
      ]
     },
     "execution_count": 45,
     "metadata": {},
     "output_type": "execute_result"
    }
   ],
   "source": [
    "spread_df"
   ]
  },
  {
   "cell_type": "code",
   "execution_count": 65,
   "metadata": {},
   "outputs": [
    {
     "name": "stderr",
     "output_type": "stream",
     "text": [
      "/Users/mm/opt/anaconda3/lib/python3.7/site-packages/ipykernel_launcher.py:1: SettingWithCopyWarning: \n",
      "A value is trying to be set on a copy of a slice from a DataFrame.\n",
      "Try using .loc[row_indexer,col_indexer] = value instead\n",
      "\n",
      "See the caveats in the documentation: https://pandas.pydata.org/pandas-docs/stable/user_guide/indexing.html#returning-a-view-versus-a-copy\n",
      "  \"\"\"Entry point for launching an IPython kernel.\n",
      "/Users/mm/opt/anaconda3/lib/python3.7/site-packages/ipykernel_launcher.py:3: SettingWithCopyWarning: \n",
      "A value is trying to be set on a copy of a slice from a DataFrame.\n",
      "Try using .loc[row_indexer,col_indexer] = value instead\n",
      "\n",
      "See the caveats in the documentation: https://pandas.pydata.org/pandas-docs/stable/user_guide/indexing.html#returning-a-view-versus-a-copy\n",
      "  This is separate from the ipykernel package so we can avoid doing imports until\n",
      "/Users/mm/opt/anaconda3/lib/python3.7/site-packages/ipykernel_launcher.py:8: SettingWithCopyWarning: \n",
      "A value is trying to be set on a copy of a slice from a DataFrame.\n",
      "Try using .loc[row_indexer,col_indexer] = value instead\n",
      "\n",
      "See the caveats in the documentation: https://pandas.pydata.org/pandas-docs/stable/user_guide/indexing.html#returning-a-view-versus-a-copy\n",
      "  \n"
     ]
    }
   ],
   "source": [
    "spread_df['Spread Delta'] = spread_df.loc[:,'Spread Open'] - spread_df.loc[:,'Spread Close']\n",
    "\n",
    "spread_df['Win Margin'] = abs(spread_df.loc[:,'Team 1 Final'] - spread_df.loc[:,'Team 2 Final'])\n",
    "\n",
    "spread_conditions = [spread_df['Team 1 Final'] > spread_df['Team 2 Final'], spread_df['Team 1 Final'] == spread_df['Team 2 Final'],\n",
    "                    spread_df['Team 1 Final'] < spread_df['Team 2 Final']]\n",
    "spread_choices = ['Team 1', 'Draw', 'Team 2']\n",
    "spread_df['Winner'] = np.select(spread_conditions, spread_choices)"
   ]
  },
  {
   "cell_type": "code",
   "execution_count": 87,
   "metadata": {},
   "outputs": [
    {
     "name": "stderr",
     "output_type": "stream",
     "text": [
      "/Users/mm/opt/anaconda3/lib/python3.7/site-packages/ipykernel_launcher.py:4: SettingWithCopyWarning: \n",
      "A value is trying to be set on a copy of a slice from a DataFrame.\n",
      "Try using .loc[row_indexer,col_indexer] = value instead\n",
      "\n",
      "See the caveats in the documentation: https://pandas.pydata.org/pandas-docs/stable/user_guide/indexing.html#returning-a-view-versus-a-copy\n",
      "  after removing the cwd from sys.path.\n",
      "/Users/mm/opt/anaconda3/lib/python3.7/site-packages/pandas/core/indexing.py:1765: SettingWithCopyWarning: \n",
      "A value is trying to be set on a copy of a slice from a DataFrame.\n",
      "Try using .loc[row_indexer,col_indexer] = value instead\n",
      "\n",
      "See the caveats in the documentation: https://pandas.pydata.org/pandas-docs/stable/user_guide/indexing.html#returning-a-view-versus-a-copy\n",
      "  isetter(loc, value)\n"
     ]
    }
   ],
   "source": [
    "win_conditions = [spread_df['Team 1 Final'] > spread_df['Team 2 Final'], spread_df['Team 1 Final'] == spread_df['Team 2 Final'],\n",
    "                    spread_df['Team 1 Final'] < spread_df['Team 2 Final']]\n",
    "spread_choices = ['Team 1', 'Draw', 'Team 2']\n",
    "spread_df['Winner'] = np.select(spread_conditions, spread_choices)\n",
    "\n",
    "for i in range(len(spread_df['Spread Delta'])):\n",
    "    if spread_df.loc[i,'Spread Delta'] <= 0:\n",
    "        spread_df.loc[i, 'Follow Spread?'] = np.where(\n",
    "                                           (spread_df.loc[i, 'Close Favorite'] == spread_df.loc[i, 'Winner']) &\n",
    "                                           (spread_df.loc[i, 'Win Margin'] >= abs(spread_df.loc[i, 'Spread Close'])),\n",
    "                                           True, False\n",
    "                                          )\n",
    "    else:\n",
    "        spread_df.loc[i, 'Follow Spread?'] = np.where(\n",
    "                                           (spread_df.loc[i, 'Close Favorite'] != spread_df.loc[i, 'Winner']) |\n",
    "                                           (spread_df.loc[i, 'Win Margin'] < abs(spread_df.loc[i, 'Spread Close'])),\n",
    "                                           True, False\n",
    "                                          )  \n",
    "    "
   ]
  },
  {
   "cell_type": "code",
   "execution_count": 252,
   "metadata": {},
   "outputs": [],
   "source": [
    "df1 = spread_df.loc[:,['Spread Delta', 'Follow Spread?']]\n",
    "# df1.to_csv('spread count.csv')"
   ]
  },
  {
   "cell_type": "code",
   "execution_count": 300,
   "metadata": {},
   "outputs": [
    {
     "data": {
      "text/plain": [
       "0      -0.5\n",
       "2       3.0\n",
       "3       1.5\n",
       "4      -2.0\n",
       "5       0.5\n",
       "       ... \n",
       "1152    0.5\n",
       "1153    2.0\n",
       "1154    1.0\n",
       "1155    2.0\n",
       "1157    3.0\n",
       "Name: Spread Delta, Length: 750, dtype: float64"
      ]
     },
     "execution_count": 300,
     "metadata": {},
     "output_type": "execute_result"
    }
   ],
   "source": [
    "df3 = df1[['Spread Delta','Follow Spread?']].dropna()\n",
    "df3 = df3[df3['Spread Delta'] != 0]\n",
    "df3['Spread Delta']\n"
   ]
  },
  {
   "cell_type": "code",
   "execution_count": 228,
   "metadata": {},
   "outputs": [
    {
     "data": {
      "text/html": [
       "<div>\n",
       "<style scoped>\n",
       "    .dataframe tbody tr th:only-of-type {\n",
       "        vertical-align: middle;\n",
       "    }\n",
       "\n",
       "    .dataframe tbody tr th {\n",
       "        vertical-align: top;\n",
       "    }\n",
       "\n",
       "    .dataframe thead th {\n",
       "        text-align: right;\n",
       "    }\n",
       "</style>\n",
       "<table border=\"1\" class=\"dataframe\">\n",
       "  <thead>\n",
       "    <tr style=\"text-align: right;\">\n",
       "      <th></th>\n",
       "      <th>Spread Delta</th>\n",
       "      <th># of Games</th>\n",
       "      <th>Follow Spread</th>\n",
       "      <th>Do Not Follow Spread</th>\n",
       "    </tr>\n",
       "  </thead>\n",
       "  <tbody>\n",
       "    <tr>\n",
       "      <th>0</th>\n",
       "      <td>-9.0</td>\n",
       "      <td>1</td>\n",
       "      <td>0</td>\n",
       "      <td>1</td>\n",
       "    </tr>\n",
       "    <tr>\n",
       "      <th>1</th>\n",
       "      <td>-8.0</td>\n",
       "      <td>1</td>\n",
       "      <td>0</td>\n",
       "      <td>1</td>\n",
       "    </tr>\n",
       "    <tr>\n",
       "      <th>2</th>\n",
       "      <td>-5.0</td>\n",
       "      <td>2</td>\n",
       "      <td>0</td>\n",
       "      <td>2</td>\n",
       "    </tr>\n",
       "    <tr>\n",
       "      <th>3</th>\n",
       "      <td>-4.5</td>\n",
       "      <td>3</td>\n",
       "      <td>1</td>\n",
       "      <td>2</td>\n",
       "    </tr>\n",
       "    <tr>\n",
       "      <th>4</th>\n",
       "      <td>-4.0</td>\n",
       "      <td>5</td>\n",
       "      <td>3</td>\n",
       "      <td>2</td>\n",
       "    </tr>\n",
       "    <tr>\n",
       "      <th>5</th>\n",
       "      <td>-3.5</td>\n",
       "      <td>12</td>\n",
       "      <td>4</td>\n",
       "      <td>8</td>\n",
       "    </tr>\n",
       "    <tr>\n",
       "      <th>6</th>\n",
       "      <td>-3.0</td>\n",
       "      <td>18</td>\n",
       "      <td>6</td>\n",
       "      <td>12</td>\n",
       "    </tr>\n",
       "    <tr>\n",
       "      <th>7</th>\n",
       "      <td>-2.5</td>\n",
       "      <td>17</td>\n",
       "      <td>8</td>\n",
       "      <td>9</td>\n",
       "    </tr>\n",
       "    <tr>\n",
       "      <th>8</th>\n",
       "      <td>-2.0</td>\n",
       "      <td>41</td>\n",
       "      <td>20</td>\n",
       "      <td>21</td>\n",
       "    </tr>\n",
       "    <tr>\n",
       "      <th>9</th>\n",
       "      <td>-1.5</td>\n",
       "      <td>72</td>\n",
       "      <td>37</td>\n",
       "      <td>35</td>\n",
       "    </tr>\n",
       "    <tr>\n",
       "      <th>10</th>\n",
       "      <td>-1.0</td>\n",
       "      <td>77</td>\n",
       "      <td>33</td>\n",
       "      <td>44</td>\n",
       "    </tr>\n",
       "    <tr>\n",
       "      <th>11</th>\n",
       "      <td>-0.5</td>\n",
       "      <td>103</td>\n",
       "      <td>52</td>\n",
       "      <td>51</td>\n",
       "    </tr>\n",
       "    <tr>\n",
       "      <th>13</th>\n",
       "      <td>0.5</td>\n",
       "      <td>93</td>\n",
       "      <td>42</td>\n",
       "      <td>51</td>\n",
       "    </tr>\n",
       "    <tr>\n",
       "      <th>14</th>\n",
       "      <td>1.0</td>\n",
       "      <td>72</td>\n",
       "      <td>38</td>\n",
       "      <td>34</td>\n",
       "    </tr>\n",
       "    <tr>\n",
       "      <th>15</th>\n",
       "      <td>1.5</td>\n",
       "      <td>60</td>\n",
       "      <td>28</td>\n",
       "      <td>32</td>\n",
       "    </tr>\n",
       "    <tr>\n",
       "      <th>16</th>\n",
       "      <td>2.0</td>\n",
       "      <td>53</td>\n",
       "      <td>23</td>\n",
       "      <td>30</td>\n",
       "    </tr>\n",
       "    <tr>\n",
       "      <th>17</th>\n",
       "      <td>2.5</td>\n",
       "      <td>49</td>\n",
       "      <td>23</td>\n",
       "      <td>26</td>\n",
       "    </tr>\n",
       "    <tr>\n",
       "      <th>18</th>\n",
       "      <td>3.0</td>\n",
       "      <td>36</td>\n",
       "      <td>15</td>\n",
       "      <td>21</td>\n",
       "    </tr>\n",
       "    <tr>\n",
       "      <th>19</th>\n",
       "      <td>3.5</td>\n",
       "      <td>9</td>\n",
       "      <td>2</td>\n",
       "      <td>7</td>\n",
       "    </tr>\n",
       "    <tr>\n",
       "      <th>20</th>\n",
       "      <td>4.0</td>\n",
       "      <td>7</td>\n",
       "      <td>6</td>\n",
       "      <td>1</td>\n",
       "    </tr>\n",
       "    <tr>\n",
       "      <th>21</th>\n",
       "      <td>4.5</td>\n",
       "      <td>4</td>\n",
       "      <td>2</td>\n",
       "      <td>2</td>\n",
       "    </tr>\n",
       "    <tr>\n",
       "      <th>22</th>\n",
       "      <td>5.0</td>\n",
       "      <td>5</td>\n",
       "      <td>3</td>\n",
       "      <td>2</td>\n",
       "    </tr>\n",
       "    <tr>\n",
       "      <th>23</th>\n",
       "      <td>5.5</td>\n",
       "      <td>1</td>\n",
       "      <td>0</td>\n",
       "      <td>1</td>\n",
       "    </tr>\n",
       "    <tr>\n",
       "      <th>24</th>\n",
       "      <td>6.0</td>\n",
       "      <td>1</td>\n",
       "      <td>1</td>\n",
       "      <td>0</td>\n",
       "    </tr>\n",
       "    <tr>\n",
       "      <th>25</th>\n",
       "      <td>6.5</td>\n",
       "      <td>4</td>\n",
       "      <td>1</td>\n",
       "      <td>3</td>\n",
       "    </tr>\n",
       "    <tr>\n",
       "      <th>26</th>\n",
       "      <td>7.0</td>\n",
       "      <td>1</td>\n",
       "      <td>1</td>\n",
       "      <td>0</td>\n",
       "    </tr>\n",
       "    <tr>\n",
       "      <th>27</th>\n",
       "      <td>8.0</td>\n",
       "      <td>1</td>\n",
       "      <td>0</td>\n",
       "      <td>1</td>\n",
       "    </tr>\n",
       "    <tr>\n",
       "      <th>28</th>\n",
       "      <td>9.5</td>\n",
       "      <td>1</td>\n",
       "      <td>0</td>\n",
       "      <td>1</td>\n",
       "    </tr>\n",
       "    <tr>\n",
       "      <th>29</th>\n",
       "      <td>21.0</td>\n",
       "      <td>1</td>\n",
       "      <td>1</td>\n",
       "      <td>0</td>\n",
       "    </tr>\n",
       "  </tbody>\n",
       "</table>\n",
       "</div>"
      ],
      "text/plain": [
       "    Spread Delta  # of Games  Follow Spread  Do Not Follow Spread\n",
       "0           -9.0           1              0                     1\n",
       "1           -8.0           1              0                     1\n",
       "2           -5.0           2              0                     2\n",
       "3           -4.5           3              1                     2\n",
       "4           -4.0           5              3                     2\n",
       "5           -3.5          12              4                     8\n",
       "6           -3.0          18              6                    12\n",
       "7           -2.5          17              8                     9\n",
       "8           -2.0          41             20                    21\n",
       "9           -1.5          72             37                    35\n",
       "10          -1.0          77             33                    44\n",
       "11          -0.5         103             52                    51\n",
       "13           0.5          93             42                    51\n",
       "14           1.0          72             38                    34\n",
       "15           1.5          60             28                    32\n",
       "16           2.0          53             23                    30\n",
       "17           2.5          49             23                    26\n",
       "18           3.0          36             15                    21\n",
       "19           3.5           9              2                     7\n",
       "20           4.0           7              6                     1\n",
       "21           4.5           4              2                     2\n",
       "22           5.0           5              3                     2\n",
       "23           5.5           1              0                     1\n",
       "24           6.0           1              1                     0\n",
       "25           6.5           4              1                     3\n",
       "26           7.0           1              1                     0\n",
       "27           8.0           1              0                     1\n",
       "28           9.5           1              0                     1\n",
       "29          21.0           1              1                     0"
      ]
     },
     "execution_count": 228,
     "metadata": {},
     "output_type": "execute_result"
    }
   ],
   "source": [
    "df2 = df1.groupby('Spread Delta').count()\n",
    "df2.rename(columns = {'Follow Spread?':'# of Games'}, inplace = True)\n",
    "df2['Follow Spread'] = df1.groupby('Spread Delta').sum()\n",
    "df2['Do Not Follow Spread'] = df2['# of Games'] - df2['Follow Spread']\n",
    "df2.reset_index(inplace = True)\n",
    "df2 = df2[df2['Spread Delta'] != 0]\n",
    "df2"
   ]
  },
  {
   "cell_type": "code",
   "execution_count": 283,
   "metadata": {},
   "outputs": [
    {
     "name": "stdout",
     "output_type": "stream",
     "text": [
      "Total # of games: 750\n",
      "Total # of winning bets given followed favorable spread movement: 350\n",
      "Total # of losing bets given followed favorable spread movement: 400\n"
     ]
    }
   ],
   "source": [
    "print(f\"Total # of games: {df2['# of Games'].sum()}\")\n",
    "print(f\"Total # of winning bets given followed favorable spread movement: {df2['Follow Spread'].sum()}\")\n",
    "print(f\"Total # of losing bets given followed favorable spread movement: {df2['Do Not Follow Spread'].sum()}\")"
   ]
  },
  {
   "cell_type": "code",
   "execution_count": 287,
   "metadata": {},
   "outputs": [],
   "source": [
    "# Null Hypothesis: Following the favorable spread movement does not result in a winning bet more than\n",
    "# half of the time. Rate of winning is 1/2.\n",
    "\n",
    "# Null Hyp: The average rate of winning for favorable spread movement more than 1/2. Reject null.\n",
    "# Alt Hyp: The average rate of winning for favorable spread movement is less than 1/2.\n",
    "\n",
    "n = df2['# of Games'].sum()\n",
    "p = 0.5\n",
    "\n",
    "binomial = stats.binom(n=n, p=p)\n",
    "binomial_mean = n * p\n",
    "binomial_var = n * p * (1 - p)\n",
    "normal_approx = stats.norm(binomial_mean, np.sqrt(binomial_var))"
   ]
  },
  {
   "cell_type": "code",
   "execution_count": 292,
   "metadata": {},
   "outputs": [
    {
     "data": {
      "text/plain": [
       "0.033944577430914516"
      ]
     },
     "execution_count": 292,
     "metadata": {},
     "output_type": "execute_result"
    }
   ],
   "source": [
    "norm_p_value = normal_approx.cdf(df2['Follow Spread'].sum()) \n",
    "norm_p_value"
   ]
  },
  {
   "cell_type": "code",
   "execution_count": 294,
   "metadata": {},
   "outputs": [
    {
     "data": {
      "text/plain": [
       "0.03675388702921237"
      ]
     },
     "execution_count": 294,
     "metadata": {},
     "output_type": "execute_result"
    }
   ],
   "source": [
    "stats.binom_test(df2['Follow Spread'].sum(), n = n, p = p, alternative ='less')"
   ]
  },
  {
   "cell_type": "code",
   "execution_count": 307,
   "metadata": {},
   "outputs": [
    {
     "data": {
      "text/plain": [
       "(-1.8285923547909737, 0.0337303494265994)"
      ]
     },
     "execution_count": 307,
     "metadata": {},
     "output_type": "execute_result"
    }
   ],
   "source": [
    "from statsmodels.stats.weightstats import ztest\n",
    "ztest(x1 = df3['Follow Spread?'], value=0.5, alternative='smaller', usevar='pooled', ddof=1.0)"
   ]
  },
  {
   "cell_type": "code",
   "execution_count": 154,
   "metadata": {},
   "outputs": [
    {
     "data": {
      "text/plain": [
       "<matplotlib.legend.Legend at 0x7f8cf5d7cad0>"
      ]
     },
     "execution_count": 154,
     "metadata": {},
     "output_type": "execute_result"
    },
    {
     "data": {
      "image/png": "[encoded data removed]",
      "text/plain": [
       "<Figure size 1440x1440 with 1 Axes>"
      ]
     },
     "metadata": {
      "needs_background": "light"
     },
     "output_type": "display_data"
    }
   ],
   "source": [
    "fig, ax = plt.subplots(figsize=(20,20))\n",
    "\n",
    "width = 0.35\n",
    "\n",
    "ax.bar(np.arange(len(df2['Spread Delta'])) - width/2 , df2['Follow Spread'], width, label = 'Follow Spread')\n",
    "ax.bar(np.arange(len(df2['Spread Delta'])) + width/2 , df2['Do Not Follow Spread'], width, label = 'Do Not Follow Spread')\n",
    "\n",
    "ax.set_ylabel('# of Games')\n",
    "ax.set_title('Should you favorable spread movement?')\n",
    "ax.set_xticks(np.arange(len(df2['Spread Delta'])))\n",
    "ax.set_xticklabels(df2['Spread Delta'])\n",
    "ax.legend()"
   ]
  },
  {
   "cell_type": "code",
   "execution_count": 312,
   "metadata": {},
   "outputs": [
    {
     "data": {
      "text/html": [
       "<div>\n",
       "<style scoped>\n",
       "    .dataframe tbody tr th:only-of-type {\n",
       "        vertical-align: middle;\n",
       "    }\n",
       "\n",
       "    .dataframe tbody tr th {\n",
       "        vertical-align: top;\n",
       "    }\n",
       "\n",
       "    .dataframe thead th {\n",
       "        text-align: right;\n",
       "    }\n",
       "</style>\n",
       "<table border=\"1\" class=\"dataframe\">\n",
       "  <thead>\n",
       "    <tr style=\"text-align: right;\">\n",
       "      <th></th>\n",
       "      <th>Spread Delta</th>\n",
       "      <th>Follow Spread?</th>\n",
       "    </tr>\n",
       "  </thead>\n",
       "  <tbody>\n",
       "    <tr>\n",
       "      <th>0</th>\n",
       "      <td>-0.5</td>\n",
       "      <td>True</td>\n",
       "    </tr>\n",
       "    <tr>\n",
       "      <th>2</th>\n",
       "      <td>3.0</td>\n",
       "      <td>False</td>\n",
       "    </tr>\n",
       "    <tr>\n",
       "      <th>3</th>\n",
       "      <td>1.5</td>\n",
       "      <td>False</td>\n",
       "    </tr>\n",
       "    <tr>\n",
       "      <th>4</th>\n",
       "      <td>-2.0</td>\n",
       "      <td>True</td>\n",
       "    </tr>\n",
       "    <tr>\n",
       "      <th>5</th>\n",
       "      <td>0.5</td>\n",
       "      <td>False</td>\n",
       "    </tr>\n",
       "    <tr>\n",
       "      <th>...</th>\n",
       "      <td>...</td>\n",
       "      <td>...</td>\n",
       "    </tr>\n",
       "    <tr>\n",
       "      <th>1152</th>\n",
       "      <td>0.5</td>\n",
       "      <td>False</td>\n",
       "    </tr>\n",
       "    <tr>\n",
       "      <th>1153</th>\n",
       "      <td>2.0</td>\n",
       "      <td>True</td>\n",
       "    </tr>\n",
       "    <tr>\n",
       "      <th>1154</th>\n",
       "      <td>1.0</td>\n",
       "      <td>True</td>\n",
       "    </tr>\n",
       "    <tr>\n",
       "      <th>1155</th>\n",
       "      <td>2.0</td>\n",
       "      <td>False</td>\n",
       "    </tr>\n",
       "    <tr>\n",
       "      <th>1157</th>\n",
       "      <td>3.0</td>\n",
       "      <td>False</td>\n",
       "    </tr>\n",
       "  </tbody>\n",
       "</table>\n",
       "<p>750 rows × 2 columns</p>\n",
       "</div>"
      ],
      "text/plain": [
       "      Spread Delta  Follow Spread?\n",
       "0             -0.5            True\n",
       "2              3.0           False\n",
       "3              1.5           False\n",
       "4             -2.0            True\n",
       "5              0.5           False\n",
       "...            ...             ...\n",
       "1152           0.5           False\n",
       "1153           2.0            True\n",
       "1154           1.0            True\n",
       "1155           2.0           False\n",
       "1157           3.0           False\n",
       "\n",
       "[750 rows x 2 columns]"
      ]
     },
     "execution_count": 312,
     "metadata": {},
     "output_type": "execute_result"
    }
   ],
   "source": [
    "df3"
   ]
  },
  {
   "cell_type": "code",
   "execution_count": 329,
   "metadata": {},
   "outputs": [
    {
     "name": "stdout",
     "output_type": "stream",
     "text": [
      "2       False\n",
      "3       False\n",
      "5       False\n",
      "8        True\n",
      "15      False\n",
      "        ...  \n",
      "1152    False\n",
      "1153     True\n",
      "1154     True\n",
      "1155    False\n",
      "1157    False\n",
      "Name: Follow Spread?, Length: 398, dtype: bool\n",
      "398\n",
      "186\n"
     ]
    }
   ],
   "source": [
    "df4 = df3[df3['Spread Delta'] > 0]['Follow Spread?']\n",
    "print(df4)\n",
    "print(df4.count())\n",
    "print(df4.sum())"
   ]
  },
  {
   "cell_type": "code",
   "execution_count": 328,
   "metadata": {},
   "outputs": [
    {
     "name": "stdout",
     "output_type": "stream",
     "text": [
      "0        True\n",
      "4        True\n",
      "6       False\n",
      "10      False\n",
      "11       True\n",
      "        ...  \n",
      "1132    False\n",
      "1136    False\n",
      "1140    False\n",
      "1143     True\n",
      "1146     True\n",
      "Name: Follow Spread?, Length: 352, dtype: bool\n",
      "352\n",
      "164\n"
     ]
    }
   ],
   "source": [
    "df5 = df3[df3['Spread Delta'] < 0]['Follow Spread?']\n",
    "print(df5)\n",
    "print(df5.count())\n",
    "print(df5.sum())"
   ]
  },
  {
   "cell_type": "code",
   "execution_count": 327,
   "metadata": {},
   "outputs": [
    {
     "data": {
      "text/plain": [
       "Ttest_indResult(statistic=0.03905755631283818, pvalue=0.968855079793709)"
      ]
     },
     "execution_count": 327,
     "metadata": {},
     "output_type": "execute_result"
    }
   ],
   "source": [
    "stats.ttest_ind(df4, df5, axis=0, equal_var=False, nan_policy='propagate')"
   ]
  },
  {
   "cell_type": "code",
   "execution_count": 335,
   "metadata": {},
   "outputs": [
    {
     "name": "stdout",
     "output_type": "stream",
     "text": [
      "186\n",
      "398\n",
      "164\n",
      "352\n",
      "750\n",
      "0.4666666666666667\n",
      "26151253.333333332\n"
     ]
    }
   ],
   "source": [
    "pos_spread_delta_win = df4.sum()\n",
    "pos_spread_delta_total = df4.count()\n",
    "neg_spread_delta_win = df5.sum()\n",
    "neg_spread_delta_total = df5.count()\n",
    "tot_spread_delta_total = pos_spread_delta_total + neg_spread_delta_total\n",
    "\n",
    "shared_sample_freq = (pos_spread_delta_win + neg_spread_delta_win) / tot_spread_delta_total\n",
    "shared_sample_variance = tot_spread_delta_total * (shared_sample_freq * (1 - shared_sample_freq)) * (pos_spread_delta_total * neg_spread_delta_total)\n",
    "\n",
    "print(pos_spread_delta_win)\n",
    "print(pos_spread_delta_total)\n",
    "print(neg_spread_delta_win)\n",
    "print(neg_spread_delta_total)\n",
    "print(tot_spread_delta_total)\n",
    "print(shared_sample_freq)\n",
    "print(shared_sample_variance)\n"
   ]
  },
  {
   "cell_type": "code",
   "execution_count": 336,
   "metadata": {},
   "outputs": [],
   "source": [
    "diff_in_proportions = stats.norm(0, np.sqrt(shared_sample_variance))"
   ]
  },
  {
   "cell_type": "code",
   "execution_count": 344,
   "metadata": {},
   "outputs": [
    {
     "data": {
      "text/plain": [
       "Text(0.5, 1.0, 'Distribution of Difference in Sample Frequencies Assuming $H_0$')"
      ]
     },
     "execution_count": 344,
     "metadata": {},
     "output_type": "execute_result"
    },
    {
     "data": {
      "image/png": "[encoded data removed]",
      "text/plain": [
       "<Figure size 1152x216 with 1 Axes>"
      ]
     },
     "metadata": {
      "needs_background": "light"
     },
     "output_type": "display_data"
    }
   ],
   "source": [
    "fig, ax = plt.subplots(1, figsize=(16, 3))\n",
    "\n",
    "x = np.linspace(-1, 1, num=250)\n",
    "ax.plot(x, diff_in_proportions.pdf(x), linewidth=3)\n",
    "ax.set_xlim(-2, 2)\n",
    "ax.set_title(\"Distribution of Difference in Sample Frequencies Assuming $H_0$\")"
   ]
  },
  {
   "cell_type": "code",
   "execution_count": 345,
   "metadata": {},
   "outputs": [
    {
     "data": {
      "text/plain": [
       "0.0014275925079945684"
      ]
     },
     "execution_count": 345,
     "metadata": {},
     "output_type": "execute_result"
    }
   ],
   "source": [
    "pos_spread_delta_freq = pos_spread_delta_win / pos_spread_delta_total\n",
    "neg_spread_delta_freq = neg_spread_delta_win / neg_spread_delta_total\n",
    "diff_in_sample_proportions = pos_spread_delta_freq - neg_spread_delta_freq\n",
    "diff_in_sample_proportions"
   ]
  },
  {
   "cell_type": "code",
   "execution_count": 350,
   "metadata": {},
   "outputs": [
    {
     "data": {
      "text/plain": [
       "0.49999988863003786"
      ]
     },
     "execution_count": 350,
     "metadata": {},
     "output_type": "execute_result"
    }
   ],
   "source": [
    "p_value = 1 - diff_in_proportions.cdf(diff_in_sample_proportions)\n",
    "p_value"
   ]
  },
  {
   "cell_type": "code",
   "execution_count": null,
   "metadata": {},
   "outputs": [],
   "source": []
  }
 ],
 "metadata": {
  "kernelspec": {
   "display_name": "Python 3",
   "language": "python",
   "name": "python3"
  },
  "language_info": {
   "codemirror_mode": {
    "name": "ipython",
    "version": 3
   },
   "file_extension": ".py",
   "mimetype": "text/x-python",
   "name": "python",
   "nbconvert_exporter": "python",
   "pygments_lexer": "ipython3",
   "version": "3.7.9"
  }
 },
 "nbformat": 4,
 "nbformat_minor": 4
}
